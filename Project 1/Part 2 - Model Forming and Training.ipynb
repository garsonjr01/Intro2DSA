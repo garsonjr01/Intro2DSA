{
 "cells": [
  {
   "cell_type": "markdown",
   "metadata": {},
   "source": [
    "I still need to use this to fix \"fitmodels\" so hang tight!"
   ]
  },
  {
   "cell_type": "code",
   "execution_count": 1,
   "metadata": {},
   "outputs": [],
   "source": [
    "import prices"
   ]
  },
  {
   "cell_type": "code",
   "execution_count": 2,
   "metadata": {},
   "outputs": [
    {
     "data": {
      "text/html": [
       "<div>\n",
       "<style scoped>\n",
       "    .dataframe tbody tr th:only-of-type {\n",
       "        vertical-align: middle;\n",
       "    }\n",
       "\n",
       "    .dataframe tbody tr th {\n",
       "        vertical-align: top;\n",
       "    }\n",
       "\n",
       "    .dataframe thead th {\n",
       "        text-align: right;\n",
       "    }\n",
       "</style>\n",
       "<table border=\"1\" class=\"dataframe\">\n",
       "  <thead>\n",
       "    <tr style=\"text-align: right;\">\n",
       "      <th></th>\n",
       "      <th>LotArea</th>\n",
       "      <th>LotFrontage</th>\n",
       "      <th>SalePrice</th>\n",
       "    </tr>\n",
       "  </thead>\n",
       "  <tbody>\n",
       "    <tr>\n",
       "      <th>0</th>\n",
       "      <td>8450</td>\n",
       "      <td>65.0</td>\n",
       "      <td>208500</td>\n",
       "    </tr>\n",
       "    <tr>\n",
       "      <th>1</th>\n",
       "      <td>9600</td>\n",
       "      <td>80.0</td>\n",
       "      <td>181500</td>\n",
       "    </tr>\n",
       "    <tr>\n",
       "      <th>2</th>\n",
       "      <td>11250</td>\n",
       "      <td>68.0</td>\n",
       "      <td>223500</td>\n",
       "    </tr>\n",
       "    <tr>\n",
       "      <th>3</th>\n",
       "      <td>9550</td>\n",
       "      <td>60.0</td>\n",
       "      <td>140000</td>\n",
       "    </tr>\n",
       "    <tr>\n",
       "      <th>4</th>\n",
       "      <td>14260</td>\n",
       "      <td>84.0</td>\n",
       "      <td>250000</td>\n",
       "    </tr>\n",
       "    <tr>\n",
       "      <th>5</th>\n",
       "      <td>14115</td>\n",
       "      <td>85.0</td>\n",
       "      <td>143000</td>\n",
       "    </tr>\n",
       "    <tr>\n",
       "      <th>6</th>\n",
       "      <td>10084</td>\n",
       "      <td>75.0</td>\n",
       "      <td>307000</td>\n",
       "    </tr>\n",
       "    <tr>\n",
       "      <th>7</th>\n",
       "      <td>10382</td>\n",
       "      <td>70.0</td>\n",
       "      <td>200000</td>\n",
       "    </tr>\n",
       "    <tr>\n",
       "      <th>8</th>\n",
       "      <td>6120</td>\n",
       "      <td>51.0</td>\n",
       "      <td>129900</td>\n",
       "    </tr>\n",
       "    <tr>\n",
       "      <th>9</th>\n",
       "      <td>7420</td>\n",
       "      <td>50.0</td>\n",
       "      <td>118000</td>\n",
       "    </tr>\n",
       "  </tbody>\n",
       "</table>\n",
       "</div>"
      ],
      "text/plain": [
       "   LotArea  LotFrontage  SalePrice\n",
       "0     8450         65.0     208500\n",
       "1     9600         80.0     181500\n",
       "2    11250         68.0     223500\n",
       "3     9550         60.0     140000\n",
       "4    14260         84.0     250000\n",
       "5    14115         85.0     143000\n",
       "6    10084         75.0     307000\n",
       "7    10382         70.0     200000\n",
       "8     6120         51.0     129900\n",
       "9     7420         50.0     118000"
      ]
     },
     "execution_count": 2,
     "metadata": {},
     "output_type": "execute_result"
    }
   ],
   "source": [
    "training=prices.pd.read_pickle(\"Clean Training Data.txt\")\n",
    "training[:10]"
   ]
  },
  {
   "cell_type": "code",
   "execution_count": 3,
   "metadata": {},
   "outputs": [
    {
     "data": {
      "text/plain": [
       "array([[ 1.   , -0.286, -0.2  ],\n",
       "       [ 1.   , -0.01 ,  0.622],\n",
       "       [ 1.   ,  0.387, -0.036],\n",
       "       [ 1.   , -0.022, -0.475],\n",
       "       [ 1.   ,  1.11 ,  0.842]])"
      ]
     },
     "execution_count": 3,
     "metadata": {},
     "output_type": "execute_result"
    }
   ],
   "source": [
    "# To access values of varStd, use varStd[0]\n",
    "\n",
    "areaStd,frontStd,priceStd=prices.standardize(training.values[:,0],training.values[:,1],training.values[:,2])\n",
    "designMatrix=prices.np.array([prices.np.ones(len(training)),areaStd[0],frontStd[0]]).T # ,frontStd[0]\n",
    "designMatrix[:5].round(3)"
   ]
  },
  {
   "cell_type": "code",
   "execution_count": 4,
   "metadata": {},
   "outputs": [
    {
     "name": "stdout",
     "output_type": "stream",
     "text": [
      "Error Vector:  [ 0.005  1.51   0.617 ... -0.67   1.472  1.828]\n",
      "Maximum Error:  11.53 \n",
      "\n",
      "Base Loss:  5155.0 \n",
      "\n",
      "Initial Update:  [0.6 0.7 0.7]\n"
     ]
    }
   ],
   "source": [
    "# All except for coefficients are assumed to be numpy arrays\n",
    "\n",
    "# Define functions useful for algorithm steps\n",
    "\n",
    "batch=prices.np.random.choice\n",
    "def nesterov_step(labels,design,prevWeight,prevUpdate,histCoeff,learnRate):\n",
    "    error = design.dot(prevWeight-histCoeff*prevUpdate)-labels\n",
    "    update = (histCoeff*prevUpdate + learnRate*2*error.dot(design)).flatten()\n",
    "    weights = (prevWeight - update).flatten()\n",
    "\n",
    "    return (weights,update)\n",
    "\n",
    "# Initialize Variables and Constants\n",
    "\n",
    "weightsStd=prices.np.ones(prices.np.shape(designMatrix)[1])\n",
    "error=designMatrix.dot(weightsStd)-priceStd[0]\n",
    "lossBase=loss=prices.ssq(error)\n",
    "\n",
    "# Try using 2e-4\n",
    "learn=2e-4\n",
    "\n",
    "# Try using 0.35\n",
    "hist=0.35\n",
    "\n",
    "iteration=1\n",
    "loss_last=0\n",
    "tolerance=1e-4\n",
    "update=learn*2*error.dot(designMatrix)\n",
    "print('Error Vector: ',error.round(3))\n",
    "print('Maximum Error: ',round(max(abs(error)),2),'\\n')\n",
    "print('Base Loss: ',round(lossBase),'\\n')\n",
    "print('Initial Update: ',update.round(1))"
   ]
  },
  {
   "cell_type": "code",
   "execution_count": 5,
   "metadata": {
    "scrolled": true
   },
   "outputs": [
    {
     "name": "stdout",
     "output_type": "stream",
     "text": [
      "DONE! \n",
      "\n",
      "Final Iteration:  8   Final Loss:  1190.13   Base Loss:  5154.67\n"
     ]
    }
   ],
   "source": [
    "#with open(\"Training Progress (Copy).txt\",\"a\") as output:\n",
    "while abs(loss-loss_last)>tolerance and iteration<=50:\n",
    "    loss_last=loss\n",
    "    miniBatch=batch(range(len(designMatrix)),300,False).sort()\n",
    "    weightsStd,update=nesterov_step(priceStd[0][miniBatch],\n",
    "                                 designMatrix[miniBatch],\n",
    "                                 weightsStd,update,\n",
    "                                 hist,learn)\n",
    "    error=designMatrix.dot(weightsStd)-priceStd[0]\n",
    "    loss=prices.ssq(error)\n",
    "#   print('Iteration: ',iteration,'  Loss: ',loss.round(4),'\\n Update: ',update,'\\n')\n",
    "\n",
    "#   string=str()\n",
    "#   string=string.join(['Iteration: ',str(iteration),'  Loss: ',str(loss.round(4)),'\\n Update: ',str(update),'\\n\\n'])\n",
    "#   output.write(string)\n",
    "\n",
    "    iteration+=1\n",
    "print('DONE!','\\n')\n",
    "print('Final Iteration: ',iteration-1,\n",
    "  '  Final Loss: ',loss.round(2),'  Base Loss: ',lossBase.round(2))\n",
    "\n",
    "\n",
    "#   string=str()\n",
    "#   string=string.join(['DONE!','\\n\\n','Final Iteration: ',str(iteration-1),\n",
    "#    '  Final Loss: ',str(loss.round(2)),'  Base Loss: ',str(lossBase.round(2)),'\\n\\n\\n\\n\\n'])\n",
    "#   output.write(string)\n"
   ]
  },
  {
   "cell_type": "code",
   "execution_count": 6,
   "metadata": {},
   "outputs": [
    {
     "name": "stdout",
     "output_type": "stream",
     "text": [
      "[0.00040453 0.19952275 0.2559214 ]\n",
      "[-2.29908783e+05  3.18800000e+00  9.33965000e+02]\n"
     ]
    }
   ],
   "source": [
    "print(weightsStd)\n",
    "weights=priceStd[1]*(prices.unwrap(weightsStd,[areaStd[1],frontStd[1]],[areaStd[2],frontStd[2]]))\n",
    "weights[0]+=priceStd[2]\n",
    "print(weights.round(3))"
   ]
  },
  {
   "cell_type": "code",
   "execution_count": 7,
   "metadata": {},
   "outputs": [],
   "source": [
    "#with open(\"fitmodels.py\",\"a\") as file:\n",
    "#    prices.func_print(weights,'areaFront_nesterov',file)"
   ]
  },
  {
   "cell_type": "code",
   "execution_count": null,
   "metadata": {},
   "outputs": [],
   "source": []
  }
 ],
 "metadata": {
  "kernelspec": {
   "display_name": "Python 3",
   "language": "python",
   "name": "python3"
  },
  "language_info": {
   "codemirror_mode": {
    "name": "ipython",
    "version": 3
   },
   "file_extension": ".py",
   "mimetype": "text/x-python",
   "name": "python",
   "nbconvert_exporter": "python",
   "pygments_lexer": "ipython3",
   "version": "3.6.5"
  }
 },
 "nbformat": 4,
 "nbformat_minor": 2
}
